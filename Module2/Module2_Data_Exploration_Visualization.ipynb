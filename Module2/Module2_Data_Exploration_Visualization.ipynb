{
 "cells": [
  {
   "cell_type": "markdown",
   "id": "6d8a56f9",
   "metadata": {},
   "source": [
    "# Module 2: Data Exploration and Visualization\n",
    "\n",
    "## Data Cleaning and Preprocessing\n",
    "- Handling missing values\n",
    "- Data types and conversions\n",
    "- Outlier detection\n",
    "\n",
    "## Exploratory Data Analysis (EDA)\n",
    "- Summary statistics\n",
    "- Correlation analysis\n",
    "\n",
    "## Visualization Techniques\n",
    "- Bar charts, histograms, scatter plots\n",
    "- Using matplotlib/seaborn (Python)\n",
    "\n",
    "## Practice Exercise\n",
    "1. Load a sample marketing dataset and perform EDA.\n",
    "2. Visualize the distribution of a key variable."
   ]
  },
  {
   "cell_type": "markdown",
   "id": "79f3ea0f",
   "metadata": {},
   "source": [
    "## Practice with Imaginary Data\n",
    "\n",
    "Let's create a small imaginary marketing dataset for hands-on analytics practice. This will help you understand the structure and key variables before working with real data."
   ]
  },
  {
   "cell_type": "code",
   "execution_count": null,
   "id": "072d1e57",
   "metadata": {
    "vscode": {
     "languageId": "code"
    }
   },
   "outputs": [],
   "source": [
    "import pandas as pd\n",
    "import numpy as np\n",
    "\n",
    "# Create imaginary marketing data\n",
    "data = {\n",
    "    'ID': range(1, 21),\n",
    "    'Age': np.random.randint(22, 60, 20),\n",
    "    'Gender': np.random.choice(['Male', 'Female'], 20),\n",
    "    'Income': np.random.randint(30000, 120000, 20),\n",
    "    'Campaign_Contacted': np.random.choice([0, 1], 20, p=[0.3, 0.7]),\n",
    "    'Response': np.random.choice([0, 1], 20, p=[0.7, 0.3]),\n",
    "    'Purchases': np.random.randint(1, 10, 20)\n",
    "}\n",
    "df_imaginary = pd.DataFrame(data)\n",
    "df_imaginary.head()"
   ]
  },
  {
   "cell_type": "markdown",
   "id": "19f2c96b",
   "metadata": {},
   "source": [
    "### Example: Calculate Key Metrics from Imaginary Data"
   ]
  },
  {
   "cell_type": "code",
   "execution_count": null,
   "id": "804939c2",
   "metadata": {
    "vscode": {
     "languageId": "code"
    }
   },
   "outputs": [],
   "source": [
    "# Total number of customers\n",
    "num_customers = df_imaginary['ID'].nunique()\n",
    "print(f'Total customers: {num_customers}')\n",
    "\n",
    "# Average sales per customer\n",
    "avg_sales = df_imaginary['Income'].mean()\n",
    "print(f'Average sales (Income): {avg_sales:.2f}')\n",
    "\n",
    "# Campaign response rate\n",
    "response_rate = df_imaginary['Response'].mean() * 100\n",
    "print(f'Campaign response rate: {response_rate:.2f}%')\n",
    "\n",
    "# Average purchases per customer\n",
    "avg_purchases = df_imaginary['Purchases'].mean()\n",
    "print(f'Average purchases per customer: {avg_purchases:.2f}')"
   ]
  },
  {
   "cell_type": "markdown",
   "id": "4462a3ce",
   "metadata": {},
   "source": [
    "### Try it Yourself\n",
    "- Calculate the percentage of customers contacted by the campaign.\n",
    "- Find the average income by gender.\n",
    "- Visualize the distribution of purchases using a histogram."
   ]
  }
 ],
 "metadata": {
  "language_info": {
   "name": "python"
  }
 },
 "nbformat": 4,
 "nbformat_minor": 5
}
