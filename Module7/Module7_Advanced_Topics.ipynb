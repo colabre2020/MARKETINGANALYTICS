{
 "cells": [
  {
   "cell_type": "markdown",
   "id": "8d005444",
   "metadata": {},
   "source": [
    "# Module 7: Advanced Topics\n",
    "\n",
    "## Time Series Forecasting for Sales\n",
    "- ARIMA models\n",
    "- Exponential smoothing\n",
    "\n",
    "## Text Analytics for Customer Feedback\n",
    "- Sentiment analysis\n",
    "- Topic modeling\n",
    "\n",
    "## Machine Learning Applications in Marketing\n",
    "- Churn prediction\n",
    "- Recommendation systems\n",
    "\n",
    "## Practice Exercise\n",
    "1. Forecast sales using a time series model.\n",
    "2. Perform sentiment analysis on customer reviews."
   ]
  },
  {
   "cell_type": "markdown",
   "id": "f7b6c120",
   "metadata": {},
   "source": [
    "## Example Dataset\n",
    "\n",
    "We'll use a sample CSV file (`marketing_sample.csv`) containing customer demographics, campaign responses, purchases, and review text. This file is available in your workspace."
   ]
  },
  {
   "cell_type": "code",
   "execution_count": null,
   "id": "f5b4c653",
   "metadata": {},
   "outputs": [],
   "source": [
    "# Load the sample dataset\n",
    "import pandas as pd\n",
    "\n",
    "df = pd.read_csv('../marketing_sample.csv')\n",
    "df.head()"
   ]
  },
  {
   "cell_type": "markdown",
   "id": "8a0fdc39",
   "metadata": {},
   "source": [
    "## Time Series Forecasting Example\n",
    "Suppose we want to forecast monthly purchases. We'll simulate monthly sales from the data."
   ]
  },
  {
   "cell_type": "code",
   "execution_count": null,
   "id": "3d15e541",
   "metadata": {},
   "outputs": [],
   "source": [
    "import numpy as np\n",
    "import matplotlib.pyplot as plt\n",
    "import pandas as pd\n",
    "from statsmodels.tsa.holtwinters import ExponentialSmoothing\n",
    "\n",
    "# Simulate monthly sales\n",
    "dates = pd.date_range('2024-01-01', periods=10, freq='M')\n",
    "sales = df['Purchases'].values + np.random.randint(-1, 2, 10)\n",
    "time_series = pd.Series(sales, index=dates)\n",
    "\n",
    "# Plot sales\n",
    "time_series.plot(marker='o', title='Monthly Sales')\n",
    "plt.ylabel('Purchases')\n",
    "plt.show()\n",
    "\n",
    "# Exponential Smoothing Forecast\n",
    "model = ExponentialSmoothing(time_series, trend='add', seasonal=None)\n",
    "fit = model.fit()\n",
    "forecast = fit.forecast(3)\n",
    "\n",
    "plt.plot(time_series, label='Actual')\n",
    "plt.plot(forecast, label='Forecast', linestyle='--')\n",
    "plt.legend()\n",
    "plt.title('Sales Forecast')\n",
    "plt.show()"
   ]
  },
  {
   "cell_type": "markdown",
   "id": "51758877",
   "metadata": {},
   "source": [
    "## Text Analytics Example: Sentiment Analysis\n",
    "We'll use the review text to perform basic sentiment analysis."
   ]
  },
  {
   "cell_type": "code",
   "execution_count": null,
   "id": "3a73c3d3",
   "metadata": {},
   "outputs": [],
   "source": [
    "from textblob import TextBlob\n",
    "\n",
    "def get_sentiment(text):\n",
    "    return TextBlob(text).sentiment.polarity\n",
    "\n",
    "df['Sentiment'] = df['Review'].apply(get_sentiment)\n",
    "df[['Review', 'Sentiment']]\n",
    "\n",
    "# Visualize sentiment distribution\n",
    "plt.hist(df['Sentiment'], bins=5, color='lightgreen', edgecolor='black')\n",
    "plt.title('Sentiment Distribution')\n",
    "plt.xlabel('Sentiment Polarity')\n",
    "plt.ylabel('Frequency')\n",
    "plt.show()"
   ]
  },
  {
   "cell_type": "markdown",
   "id": "8f9bbcba",
   "metadata": {},
   "source": [
    "## Machine Learning Example: Churn Prediction\n",
    "Let's build a simple churn prediction model using campaign response as a proxy for churn."
   ]
  },
  {
   "cell_type": "code",
   "execution_count": null,
   "id": "03241208",
   "metadata": {},
   "outputs": [],
   "source": [
    "from sklearn.model_selection import train_test_split\n",
    "from sklearn.ensemble import RandomForestClassifier\n",
    "from sklearn.metrics import accuracy_score\n",
    "\n",
    "# Features and target\n",
    "X = df[['Age', 'Income', 'Purchases', 'Campaign_Contacted']]\n",
    "y = df['Response']\n",
    "\n",
    "X_train, X_test, y_train, y_test = train_test_split(X, y, test_size=0.3, random_state=42)\n",
    "\n",
    "model = RandomForestClassifier()\n",
    "model.fit(X_train, y_train)\n",
    "\n",
    "y_pred = model.predict(X_test)\n",
    "print('Accuracy:', accuracy_score(y_test, y_pred))"
   ]
  },
  {
   "cell_type": "markdown",
   "id": "706ab835",
   "metadata": {},
   "source": [
    "## Your Turn\n",
    "- Try forecasting with ARIMA or other time series models.\n",
    "- Perform topic modeling on the review text.\n",
    "- Build a recommendation system using the purchases data."
   ]
  }
 ],
 "metadata": {
  "language_info": {
   "name": "python"
  }
 },
 "nbformat": 4,
 "nbformat_minor": 5
}
