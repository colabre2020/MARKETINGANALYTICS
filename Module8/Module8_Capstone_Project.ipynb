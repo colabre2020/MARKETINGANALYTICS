{
 "cells": [
  {
   "cell_type": "markdown",
   "id": "7ca858b9",
   "metadata": {},
   "source": [
    "# Module 8: Capstone Project\n",
    "\n",
    "## Capstone Project: End-to-End Marketing Analytics\n",
    "- Define a business problem\n",
    "- Collect and clean data\n",
    "- Perform EDA and segmentation\n",
    "- Build predictive models\n",
    "- Present actionable insights\n",
    "\n",
    "## Practice Exercise\n",
    "1. Complete an end-to-end marketing analytics project using a real or simulated dataset.\n",
    "2. Present your findings and recommendations."
   ]
  },
  {
   "cell_type": "markdown",
   "id": "733576c3",
   "metadata": {},
   "source": [
    "## Example Dataset\n",
    "\n",
    "We'll use the sample CSV file (`marketing_sample.csv`) containing customer demographics, campaign responses, purchases, and review text. This file is available in your workspace."
   ]
  },
  {
   "cell_type": "code",
   "execution_count": null,
   "id": "8e888383",
   "metadata": {},
   "outputs": [],
   "source": [
    "# Step 1: Load and Explore Data\n",
    "import pandas as pd\n",
    "\n",
    "df = pd.read_csv('../marketing_sample.csv')\n",
    "df.head()"
   ]
  },
  {
   "cell_type": "markdown",
   "id": "31be98bf",
   "metadata": {},
   "source": [
    "## Step 2: Data Cleaning & EDA\n",
    "- Check for missing values\n",
    "- Summary statistics\n",
    "- Visualize key variables"
   ]
  },
  {
   "cell_type": "code",
   "execution_count": null,
   "id": "a018544c",
   "metadata": {},
   "outputs": [],
   "source": [
    "# Check for missing values\n",
    "print(df.isnull().sum())\n",
    "\n",
    "# Summary statistics\n",
    "print(df.describe())\n",
    "\n",
    "# Visualize distribution of Income\n",
    "import matplotlib.pyplot as plt\n",
    "plt.hist(df['Income'], bins=5, color='skyblue', edgecolor='black')\n",
    "plt.title('Income Distribution')\n",
    "plt.xlabel('Income')\n",
    "plt.ylabel('Frequency')\n",
    "plt.show()"
   ]
  },
  {
   "cell_type": "markdown",
   "id": "fff280ab",
   "metadata": {},
   "source": [
    "## Step 3: Segmentation Example (RFM)\n",
    "- Segment customers by Recency, Frequency, and Monetary value (simulate with Purchases and Income)"
   ]
  },
  {
   "cell_type": "code",
   "execution_count": null,
   "id": "ec55e3d1",
   "metadata": {},
   "outputs": [],
   "source": [
    "# Simple segmentation: High vs. Low Purchases\n",
    "purchase_threshold = df['Purchases'].median()\n",
    "df['Segment'] = ['High Value' if x > purchase_threshold else 'Low Value' for x in df['Purchases']]\n",
    "print(df['Segment'].value_counts())"
   ]
  },
  {
   "cell_type": "markdown",
   "id": "5a6d3e85",
   "metadata": {},
   "source": [
    "## Step 4: Predictive Modeling\n",
    "- Build a logistic regression model to predict campaign response"
   ]
  },
  {
   "cell_type": "code",
   "execution_count": null,
   "id": "83daae32",
   "metadata": {},
   "outputs": [],
   "source": [
    "from sklearn.model_selection import train_test_split\n",
    "from sklearn.linear_model import LogisticRegression\n",
    "from sklearn.metrics import accuracy_score, confusion_matrix\n",
    "\n",
    "# Prepare features and target\n",
    "X = df[['Age', 'Income', 'Purchases', 'Campaign_Contacted']]\n",
    "y = df['Response']\n",
    "\n",
    "X_train, X_test, y_train, y_test = train_test_split(X, y, test_size=0.2, random_state=42)\n",
    "\n",
    "# Train model\n",
    "model = LogisticRegression()\n",
    "model.fit(X_train, y_train)\n",
    "\n",
    "# Predict\n",
    "y_pred = model.predict(X_test)\n",
    "print('Accuracy:', accuracy_score(y_test, y_pred))\n",
    "print('Confusion Matrix:\\n', confusion_matrix(y_test, y_pred))"
   ]
  },
  {
   "cell_type": "markdown",
   "id": "ffa9cca8",
   "metadata": {},
   "source": [
    "## Step 5: Present Insights\n",
    "- Summarize key findings from your analysis and model\n",
    "- Make recommendations for the marketing team"
   ]
  },
  {
   "cell_type": "markdown",
   "id": "98cf4142",
   "metadata": {},
   "source": [
    "### Your Turn\n",
    "- Try different segmentation strategies (e.g., by age or income)\n",
    "- Tune the model or try other algorithms\n",
    "- Create visualizations to support your recommendations"
   ]
  }
 ],
 "metadata": {
  "language_info": {
   "name": "python"
  }
 },
 "nbformat": 4,
 "nbformat_minor": 5
}
