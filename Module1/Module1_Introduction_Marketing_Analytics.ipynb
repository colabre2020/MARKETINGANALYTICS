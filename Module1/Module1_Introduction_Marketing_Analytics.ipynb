{
 "cells": [
  {
   "cell_type": "markdown",
   "id": "58c6e4a3",
   "metadata": {},
   "source": [
    "# Module 1: Introduction to Marketing Analytics\n",
    "\n",
    "- What is marketing analytics?\n",
    "- Importance in modern marketing\n",
    "- Types of marketing data\n",
    "- Key metrics and KPIs\n",
    "\n",
    "## Practice Exercise\n",
    "1. List 5 key marketing metrics relevant to your business domain.\n",
    "2. Discuss how data-driven decisions can improve marketing ROI."
   ]
  },
  {
   "cell_type": "markdown",
   "id": "1754796d",
   "metadata": {},
   "source": [
    "## Sample Dataset\n",
    "\n",
    "For practice, we will use a sample marketing dataset containing customer demographics, campaign responses, and sales data. You can download a sample dataset from [Kaggle: Marketing Campaign Data](https://www.kaggle.com/datasets/rodsaldanha/arketing-campaign-dataset) or use your own data."
   ]
  },
  {
   "cell_type": "code",
   "execution_count": null,
   "id": "b9f9701a",
   "metadata": {},
   "outputs": [],
   "source": [
    "# Import Required Libraries\n",
    "import pandas as pd\n",
    "\n",
    "# Load the sample dataset (update the path as needed)\n",
    "df = pd.read_csv('marketing_campaign.csv')\n",
    "df.head()"
   ]
  },
  {
   "cell_type": "markdown",
   "id": "6fa8fc04",
   "metadata": {},
   "source": [
    "## Example: Exploring Key Metrics\n",
    "\n",
    "Let's calculate some basic marketing metrics from the dataset, such as total customers, average sales, and campaign response rate."
   ]
  },
  {
   "cell_type": "code",
   "execution_count": null,
   "id": "bcc144b0",
   "metadata": {},
   "outputs": [],
   "source": [
    "# Total number of customers\n",
    "num_customers = df['ID'].nunique()\n",
    "print(f\"Total customers: {num_customers}\")\n",
    "\n",
    "# Average sales per customer\n",
    "avg_sales = df['Income'].mean()\n",
    "print(f\"Average sales (Income): {avg_sales:.2f}\")\n",
    "\n",
    "# Campaign response rate\n",
    "response_rate = df['Response'].mean() * 100\n",
    "print(f\"Campaign response rate: {response_rate:.2f}%\")"
   ]
  },
  {
   "cell_type": "markdown",
   "id": "97b3ee53",
   "metadata": {},
   "source": [
    "## Your Turn\n",
    "- Try calculating other metrics such as customer retention rate, average purchase frequency, or customer lifetime value using the dataset.\n",
    "- Reflect on how these metrics can inform marketing strategy."
   ]
  },
  {
   "cell_type": "markdown",
   "id": "76de114c",
   "metadata": {},
   "source": [
    "## Practice with Imaginary Data\n",
    "\n",
    "Let's create a small imaginary marketing dataset for hands-on analytics practice. This will help you understand the structure and key variables before working with real data."
   ]
  },
  {
   "cell_type": "code",
   "execution_count": null,
   "id": "19ab467b",
   "metadata": {},
   "outputs": [],
   "source": [
    "import pandas as pd\n",
    "import numpy as np\n",
    "\n",
    "# Create imaginary marketing data\n",
    "data = {\n",
    "    'ID': range(1, 21),\n",
    "    'Age': np.random.randint(22, 60, 20),\n",
    "    'Gender': np.random.choice(['Male', 'Female'], 20),\n",
    "    'Income': np.random.randint(30000, 120000, 20),\n",
    "    'Campaign_Contacted': np.random.choice([0, 1], 20, p=[0.3, 0.7]),\n",
    "    'Response': np.random.choice([0, 1], 20, p=[0.7, 0.3]),\n",
    "    'Purchases': np.random.randint(1, 10, 20)\n",
    "}\n",
    "df_imaginary = pd.DataFrame(data)\n",
    "df_imaginary.head()"
   ]
  },
  {
   "cell_type": "markdown",
   "id": "b2ef887f",
   "metadata": {},
   "source": [
    "### Example: Calculate Key Metrics from Imaginary Data"
   ]
  },
  {
   "cell_type": "code",
   "execution_count": null,
   "id": "4d226814",
   "metadata": {},
   "outputs": [],
   "source": [
    "# Total number of customers\n",
    "num_customers = df_imaginary['ID'].nunique()\n",
    "print(f\"Total customers: {num_customers}\")\n",
    "\n",
    "# Average sales per customer\n",
    "avg_sales = df_imaginary['Income'].mean()\n",
    "print(f\"Average sales (Income): {avg_sales:.2f}\")\n",
    "\n",
    "# Campaign response rate\n",
    "response_rate = df_imaginary['Response'].mean() * 100\n",
    "print(f\"Campaign response rate: {response_rate:.2f}%\")\n",
    "\n",
    "# Average purchases per customer\n",
    "avg_purchases = df_imaginary['Purchases'].mean()\n",
    "print(f\"Average purchases per customer: {avg_purchases:.2f}\")"
   ]
  },
  {
   "cell_type": "markdown",
   "id": "0b987b6d",
   "metadata": {},
   "source": [
    "### Try it Yourself\n",
    "- Calculate the percentage of customers contacted by the campaign.\n",
    "- Find the average income by gender.\n",
    "- Visualize the distribution of purchases using a histogram."
   ]
  }
 ],
 "metadata": {
  "language_info": {
   "name": "python"
  }
 },
 "nbformat": 4,
 "nbformat_minor": 5
}
