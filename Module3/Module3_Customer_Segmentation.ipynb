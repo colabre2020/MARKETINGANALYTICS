{
 "cells": [
  {
   "cell_type": "markdown",
   "id": "9558b31d",
   "metadata": {},
   "source": [
    "# Module 3: Customer Segmentation\n",
    "\n",
    "## Clustering Techniques\n",
    "- K-means clustering\n",
    "- Hierarchical clustering\n",
    "\n",
    "## RFM Analysis\n",
    "- Recency, Frequency, Monetary value\n",
    "\n",
    "## Case Study: Segmenting Retail Customers\n",
    "\n",
    "## Practice Exercise\n",
    "1. Apply K-means clustering to a customer dataset.\n",
    "2. Perform RFM analysis and interpret the segments."
   ]
  },
  {
   "cell_type": "markdown",
   "id": "ede440fb",
   "metadata": {},
   "source": [
    "## Practice with Imaginary Data\n",
    "\n",
    "Let's create an imaginary customer dataset for segmentation practice."
   ]
  },
  {
   "cell_type": "code",
   "execution_count": null,
   "id": "c9eebd0d",
   "metadata": {},
   "outputs": [],
   "source": [
    "import pandas as pd\n",
    "import numpy as np\n",
    "from sklearn.cluster import KMeans\n",
    "\n",
    "# Create imaginary customer data\n",
    "data = {\n",
    "    'CustomerID': range(1, 31),\n",
    "    'Recency': np.random.randint(1, 100, 30),\n",
    "    'Frequency': np.random.randint(1, 20, 30),\n",
    "    'Monetary': np.random.randint(100, 2000, 30)\n",
    "}\n",
    "df_customers = pd.DataFrame(data)\n",
    "df_customers.head()"
   ]
  },
  {
   "cell_type": "markdown",
   "id": "c3c7fbcb",
   "metadata": {},
   "source": [
    "### Example: K-means Clustering"
   ]
  },
  {
   "cell_type": "code",
   "execution_count": null,
   "id": "59b8c044",
   "metadata": {},
   "outputs": [],
   "source": [
    "from sklearn.preprocessing import StandardScaler\n",
    "\n",
    "scaler = StandardScaler()\n",
    "X_scaled = scaler.fit_transform(df_customers[['Recency', 'Frequency', 'Monetary']])\n",
    "\n",
    "kmeans = KMeans(n_clusters=3, random_state=42)\n",
    "df_customers['Segment'] = kmeans.fit_predict(X_scaled)\n",
    "df_customers['Segment'] = df_customers['Segment'].astype(str)\n",
    "df_customers.groupby('Segment').mean()"
   ]
  },
  {
   "cell_type": "markdown",
   "id": "efc40a7a",
   "metadata": {},
   "source": [
    "### Try it Yourself\n",
    "- Visualize the clusters using a scatter plot.\n",
    "- Calculate average RFM values for each segment.\n",
    "- Interpret the business meaning of each segment."
   ]
  }
 ],
 "metadata": {
  "language_info": {
   "name": "python"
  }
 },
 "nbformat": 4,
 "nbformat_minor": 5
}
