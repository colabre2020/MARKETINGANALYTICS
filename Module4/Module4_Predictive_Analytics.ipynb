{
 "cells": [
  {
   "cell_type": "markdown",
   "id": "a41e84f0",
   "metadata": {},
   "source": [
    "# Module 4: Predictive Analytics in Marketing\n",
    "\n",
    "## Regression Analysis\n",
    "- Linear regression\n",
    "- Multiple regression\n",
    "\n",
    "## Classification Techniques\n",
    "- Logistic regression\n",
    "- Decision trees\n",
    "\n",
    "## Campaign Response Modeling\n",
    "\n",
    "## Practice Exercise\n",
    "1. Build a logistic regression model to predict campaign response.\n",
    "2. Evaluate model performance using accuracy and ROC curve."
   ]
  }
 ],
 "metadata": {
  "language_info": {
   "name": "python"
  }
 },
 "nbformat": 4,
 "nbformat_minor": 5
}
